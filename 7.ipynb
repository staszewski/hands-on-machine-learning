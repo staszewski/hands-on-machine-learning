{
 "cells": [
  {
   "cell_type": "code",
   "execution_count": 2,
   "id": "323f4a49-6111-460d-b79b-b33d7cccb717",
   "metadata": {},
   "outputs": [
    {
     "data": {
      "text/plain": [
       "BaggingClassifier(base_estimator=DecisionTreeClassifier(), n_estimators=500,\n",
       "                  n_jobs=-1, oob_score=True)"
      ]
     },
     "execution_count": 2,
     "metadata": {},
     "output_type": "execute_result"
    }
   ],
   "source": [
    "from sklearn.datasets import make_moons\n",
    "from sklearn.model_selection import train_test_split\n",
    "from sklearn.ensemble import BaggingClassifier\n",
    "from sklearn.tree import DecisionTreeClassifier\n",
    "\n",
    "\n",
    "X, y = make_moons(n_samples = 100, noise = 0.15)\n",
    "X_train, X_test, y_train, y_test = train_test_split(X, y, test_size = 0.2)\n",
    "\n",
    "bag_clf = BaggingClassifier(DecisionTreeClassifier(), n_estimators = 500, bootstrap = True, n_jobs = -1, oob_score = True)\n",
    "bag_clf.fit(X_train, y_train)\n"
   ]
  },
  {
   "cell_type": "code",
   "execution_count": 3,
   "id": "ea85a142-e273-4d40-a39a-e747778a8a80",
   "metadata": {},
   "outputs": [
    {
     "data": {
      "text/plain": [
       "0.9375"
      ]
     },
     "execution_count": 3,
     "metadata": {},
     "output_type": "execute_result"
    }
   ],
   "source": [
    "bag_clf.oob_score_"
   ]
  },
  {
   "cell_type": "code",
   "execution_count": 4,
   "id": "9ae0baf2-3c4c-488c-b897-564ac83a8b07",
   "metadata": {},
   "outputs": [
    {
     "data": {
      "text/plain": [
       "0.85"
      ]
     },
     "execution_count": 4,
     "metadata": {},
     "output_type": "execute_result"
    }
   ],
   "source": [
    "from sklearn.metrics import accuracy_score\n",
    "\n",
    "y_pred = bag_clf.predict(X_test)\n",
    "accuracy_score(y_test, y_pred)"
   ]
  },
  {
   "cell_type": "code",
   "execution_count": 5,
   "id": "255e2b1a-f132-4369-ad1b-94859c08ed85",
   "metadata": {},
   "outputs": [
    {
     "data": {
      "text/plain": [
       "array([[0.01142857, 0.98857143],\n",
       "       [0.        , 1.        ],\n",
       "       [0.        , 1.        ],\n",
       "       [1.        , 0.        ],\n",
       "       [1.        , 0.        ],\n",
       "       [0.06666667, 0.93333333],\n",
       "       [1.        , 0.        ],\n",
       "       [0.35960591, 0.64039409],\n",
       "       [0.        , 1.        ],\n",
       "       [1.        , 0.        ],\n",
       "       [0.        , 1.        ],\n",
       "       [0.92899408, 0.07100592],\n",
       "       [0.97461929, 0.02538071],\n",
       "       [0.1299435 , 0.8700565 ],\n",
       "       [0.        , 1.        ],\n",
       "       [0.95939086, 0.04060914],\n",
       "       [0.83615819, 0.16384181],\n",
       "       [0.67272727, 0.32727273],\n",
       "       [0.        , 1.        ],\n",
       "       [1.        , 0.        ],\n",
       "       [0.9027027 , 0.0972973 ],\n",
       "       [0.6424581 , 0.3575419 ],\n",
       "       [1.        , 0.        ],\n",
       "       [0.76216216, 0.23783784],\n",
       "       [1.        , 0.        ],\n",
       "       [0.921875  , 0.078125  ],\n",
       "       [0.        , 1.        ],\n",
       "       [0.52808989, 0.47191011],\n",
       "       [0.        , 1.        ],\n",
       "       [0.955     , 0.045     ],\n",
       "       [1.        , 0.        ],\n",
       "       [0.97340426, 0.02659574],\n",
       "       [0.00574713, 0.99425287],\n",
       "       [0.        , 1.        ],\n",
       "       [0.01162791, 0.98837209],\n",
       "       [0.        , 1.        ],\n",
       "       [0.85714286, 0.14285714],\n",
       "       [0.84745763, 0.15254237],\n",
       "       [0.06857143, 0.93142857],\n",
       "       [0.7431694 , 0.2568306 ],\n",
       "       [0.52040816, 0.47959184],\n",
       "       [1.        , 0.        ],\n",
       "       [0.        , 1.        ],\n",
       "       [1.        , 0.        ],\n",
       "       [0.        , 1.        ],\n",
       "       [1.        , 0.        ],\n",
       "       [1.        , 0.        ],\n",
       "       [0.        , 1.        ],\n",
       "       [0.36024845, 0.63975155],\n",
       "       [1.        , 0.        ],\n",
       "       [1.        , 0.        ],\n",
       "       [0.09230769, 0.90769231],\n",
       "       [1.        , 0.        ],\n",
       "       [0.        , 1.        ],\n",
       "       [1.        , 0.        ],\n",
       "       [0.        , 1.        ],\n",
       "       [0.        , 1.        ],\n",
       "       [0.        , 1.        ],\n",
       "       [0.        , 1.        ],\n",
       "       [0.98930481, 0.01069519],\n",
       "       [0.38922156, 0.61077844],\n",
       "       [0.96341463, 0.03658537],\n",
       "       [0.55555556, 0.44444444],\n",
       "       [0.        , 1.        ],\n",
       "       [0.9197861 , 0.0802139 ],\n",
       "       [0.09137056, 0.90862944],\n",
       "       [1.        , 0.        ],\n",
       "       [0.        , 1.        ],\n",
       "       [1.        , 0.        ],\n",
       "       [0.        , 1.        ],\n",
       "       [0.        , 1.        ],\n",
       "       [1.        , 0.        ],\n",
       "       [0.        , 1.        ],\n",
       "       [0.81862745, 0.18137255],\n",
       "       [0.93220339, 0.06779661],\n",
       "       [0.87912088, 0.12087912],\n",
       "       [0.        , 1.        ],\n",
       "       [0.32065217, 0.67934783],\n",
       "       [0.42857143, 0.57142857],\n",
       "       [0.83606557, 0.16393443]])"
      ]
     },
     "execution_count": 5,
     "metadata": {},
     "output_type": "execute_result"
    }
   ],
   "source": [
    "bag_clf.oob_decision_function_"
   ]
  },
  {
   "cell_type": "code",
   "execution_count": null,
   "id": "2e9a467f-3366-45ce-b715-fa69ccaa4f89",
   "metadata": {},
   "outputs": [],
   "source": []
  },
  {
   "cell_type": "code",
   "execution_count": 6,
   "id": "9527d493-7621-430f-a059-7a4e0babc872",
   "metadata": {},
   "outputs": [
    {
     "name": "stdout",
     "output_type": "stream",
     "text": [
      "sepal length (cm) 0.09948428706889419\n",
      "sepal width (cm) 0.025184325665787734\n",
      "petal length (cm) 0.44833767227387417\n",
      "petal width (cm) 0.42699371499144395\n"
     ]
    }
   ],
   "source": [
    "from sklearn.datasets import load_iris\n",
    "from sklearn.ensemble import RandomForestClassifier\n",
    "\n",
    "iris = load_iris()\n",
    "rnd_clf = RandomForestClassifier(n_estimators = 500, n_jobs = -1)\n",
    "rnd_clf.fit(iris[\"data\"], iris[\"target\"])\n",
    "\n",
    "for name, score in zip(iris[\"feature_names\"], rnd_clf.feature_importances_):\n",
    "    print(name, score)"
   ]
  },
  {
   "cell_type": "code",
   "execution_count": 13,
   "id": "eb3c67c1-a395-485a-8e27-028f70c7238a",
   "metadata": {},
   "outputs": [
    {
     "data": {
      "text/plain": [
       "array([0.9967403 , 0.06982736, 0.97248044, 0.29051344, 0.06982736,\n",
       "       0.97248044, 0.90783932, 0.06982736, 0.9967403 , 0.06982736,\n",
       "       1.        , 0.9967403 , 0.06982736, 0.9967403 , 0.06982736,\n",
       "       0.97248044, 0.06982736, 0.97248044, 0.90783932, 0.13446848])"
      ]
     },
     "execution_count": 13,
     "metadata": {},
     "output_type": "execute_result"
    }
   ],
   "source": [
    "# Gradient Boosting\n",
    "from sklearn.tree import DecisionTreeRegressor\n",
    "\n",
    "tree_reg1 = DecisionTreeRegressor(max_depth = 2)\n",
    "tree_reg1.fit(X, y)\n",
    "\n",
    "y2 = y - tree_reg1.predict(X)\n",
    "tree_reg2 = DecisionTreeRegressor(max_depth = 2)\n",
    "tree_reg2.fit(X, y2)\n",
    "\n",
    "y3 = y2 - tree_reg2.predict(X)\n",
    "tree_reg3 = DecisionTreeRegressor(max_depth = 2)\n",
    "tree_reg3.fit(X, y3)\n",
    "\n",
    "y_pred = sum(tree.predict(X_test) for tree in (tree_reg1, tree_reg2, tree_reg3))\n",
    "y_pred"
   ]
  },
  {
   "cell_type": "code",
   "execution_count": 14,
   "id": "19a5e1ab-71ef-40c7-afb3-9c6e653557ff",
   "metadata": {},
   "outputs": [
    {
     "data": {
      "text/plain": [
       "GradientBoostingRegressor(learning_rate=1.0, max_depth=2, n_estimators=3)"
      ]
     },
     "execution_count": 14,
     "metadata": {},
     "output_type": "execute_result"
    }
   ],
   "source": [
    "# same as 13\n",
    "from sklearn.ensemble import GradientBoostingRegressor\n",
    "\n",
    "gbrt = GradientBoostingRegressor(max_depth = 2, n_estimators = 3, learning_rate = 1.0)\n",
    "gbrt.fit(X, y)"
   ]
  },
  {
   "cell_type": "code",
   "execution_count": null,
   "id": "395bdcc8-b9a0-4921-906c-6cd963db557c",
   "metadata": {},
   "outputs": [],
   "source": []
  }
 ],
 "metadata": {
  "kernelspec": {
   "display_name": "Python 3 (ipykernel)",
   "language": "python",
   "name": "python3"
  },
  "language_info": {
   "codemirror_mode": {
    "name": "ipython",
    "version": 3
   },
   "file_extension": ".py",
   "mimetype": "text/x-python",
   "name": "python",
   "nbconvert_exporter": "python",
   "pygments_lexer": "ipython3",
   "version": "3.9.7"
  }
 },
 "nbformat": 4,
 "nbformat_minor": 5
}
