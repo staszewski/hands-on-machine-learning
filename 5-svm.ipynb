{
 "cells": [
  {
   "cell_type": "code",
   "execution_count": 67,
   "id": "7cd24fe2-a226-4aa3-abf5-fb50205f36cb",
   "metadata": {},
   "outputs": [
    {
     "data": {
      "text/plain": [
       "Pipeline(steps=[('scaler', StandardScaler()),\n",
       "                ('linear_svc', LinearSVC(C=1, loss='hinge'))])"
      ]
     },
     "execution_count": 1,
     "metadata": {},
     "output_type": "execute_result"
    }
   ],
   "source": [
    "import numpy as np\n",
    "from sklearn import datasets\n",
    "from sklearn.pipeline import Pipeline\n",
    "from sklearn.preprocessing import StandardScaler\n",
    "from sklearn.svm import LinearSVC\n",
    "import matplotlib as mpl\n",
    "import matplotlib.pyplot as plt\n",
    "\n",
    "iris = datasets.load_iris()\n",
    "X = iris[\"data\"][:, (2, 3)] # petal length, petal width\n",
    "y = (iris[\"target\"] == 2).astype(np.float64) # Iris virginica\n",
    "\n",
    "svm_clf = Pipeline([\n",
    "    (\"scaler\", StandardScaler()),\n",
    "    (\"linear_svc\", LinearSVC(C = 1, loss = \"hinge\"))\n",
    "])\n",
    "svm_clf.fit(X, y)"
   ]
  },
  {
   "cell_type": "code",
   "execution_count": 68,
   "id": "46c8d994-3988-49c8-ab3a-16cd789ed897",
   "metadata": {},
   "outputs": [
    {
     "data": {
      "text/plain": [
       "array([1.])"
      ]
     },
     "execution_count": 2,
     "metadata": {},
     "output_type": "execute_result"
    }
   ],
   "source": [
    "svm_clf.predict([[5.5, 1.7]])"
   ]
  },
  {
   "cell_type": "code",
   "execution_count": 69,
   "id": "2dc06367-cacd-4a66-a981-1b56efdec824",
   "metadata": {},
   "outputs": [
    {
     "data": {
      "text/plain": [
       "array([0.])"
      ]
     },
     "execution_count": 3,
     "metadata": {},
     "output_type": "execute_result"
    }
   ],
   "source": [
    "svm_clf.predict([[1.1, 1]])"
   ]
  },
  {
   "cell_type": "code",
   "execution_count": 70,
   "id": "9752fedb-e0e5-432d-8234-7c2411251e98",
   "metadata": {},
   "outputs": [
    {
     "data": {
      "text/plain": [
       "Pipeline(steps=[('poly_features', PolynomialFeatures(degree=3)),\n",
       "                ('scaler', StandardScaler()),\n",
       "                ('linear_svc', LinearSVC(C=1, loss='hinge'))])"
      ]
     },
     "execution_count": 4,
     "metadata": {},
     "output_type": "execute_result"
    }
   ],
   "source": [
    "# Non linear SVM Classification\n",
    "from sklearn.datasets import make_moons\n",
    "from sklearn.preprocessing import PolynomialFeatures\n",
    "\n",
    "X, y = make_moons(n_samples = 100, noise = 0.15)\n",
    "polynomial_svm_clf = Pipeline([\n",
    "    (\"poly_features\", PolynomialFeatures(degree = 3)),\n",
    "    (\"scaler\", StandardScaler()),\n",
    "    (\"linear_svc\", LinearSVC(C = 1, loss = \"hinge\"))\n",
    "])\n",
    "\n",
    "polynomial_svm_clf.fit(X, y)"
   ]
  },
  {
   "cell_type": "code",
   "execution_count": 71,
   "id": "1e44c62b-0310-4c8a-bd79-0a67863888ab",
   "metadata": {},
   "outputs": [],
   "source": [
    "def plot_dataset(X, y, axes):\n",
    "    plt.plot(X[:, 0][y==0], X[:, 1][y==0], \"bs\")\n",
    "    plt.plot(X[:, 0][y==1], X[:, 1][y==1], \"g^\")\n",
    "    plt.axis(axes)\n",
    "    plt.grid(True, which='both')\n",
    "    plt.xlabel(r\"$x_1$\", fontsize=20)\n",
    "    plt.ylabel(r\"$x_2$\", fontsize=20, rotation=0)"
   ]
  },
  {
   "cell_type": "code",
   "execution_count": 72,
   "id": "0f2c4802-b7ee-4e27-a203-075ccdb38c0b",
   "metadata": {},
   "outputs": [
    {
     "data": {
      "image/png": "[encoded data removed]",
      "text/plain": [
       "<Figure size 432x288 with 1 Axes>"
      ]
     },
     "metadata": {
      "needs_background": "light"
     },
     "output_type": "display_data"
    }
   ],
   "source": [
    "def plot_predictions(clf, axes):\n",
    "    x0s = np.linspace(axes[0], axes[1], 100)\n",
    "    x1s = np.linspace(axes[2], axes[3], 100)\n",
    "    x0, x1 = np.meshgrid(x0s, x1s)\n",
    "    X = np.c_[x0.ravel(), x1.ravel()]\n",
    "    y_pred = clf.predict(X).reshape(x0.shape)\n",
    "    y_decision = clf.decision_function(X).reshape(x0.shape)\n",
    "    plt.contourf(x0, x1, y_pred, cmap=plt.cm.brg, alpha=0.2)\n",
    "    plt.contourf(x0, x1, y_decision, cmap=plt.cm.brg, alpha=0.2)\n",
    "\n",
    "plot_predictions(polynomial_svm_clf, [-1.5, 2.5, -1, 1.5])\n",
    "plot_dataset(X, y, [-1.5, 2.5, -1, 1.5])\n",
    "\n",
    "plt.show()"
   ]
  },
  {
   "cell_type": "code",
   "execution_count": 73,
   "id": "2c5fb02c-86e9-44bc-96eb-7b9b69e6ec40",
   "metadata": {},
   "outputs": [],
   "source": [
    "# Polynomial Kernel - same result as if you had added many polynomial features, without actually having to add them\n",
    "from sklearn.svm import SVC\n",
    "\n",
    "poly_kernel_svm_clf = Pipeline([\n",
    "    (\"scaler\", StandardScaler()),\n",
    "    (\"svm_clf\", SVC(kernel = \"poly\", degree = 10, coef0 = 100, C = 5))\n",
    "])\n",
    "poly_kernel_svm_clf.fit(X, y)"
   ]
  },
  {
   "cell_type": "code",
   "execution_count": 74,
   "id": "eddc80ee-40a9-4baa-b4b0-bf4fb34334f0",
   "metadata": {},
   "outputs": [],
   "source": [
    "plot_predictions(poly_kernel_svm_clf, [-1.5, 2.5, -1, 1.5])\n",
    "plot_dataset(X, y, [-1.5, 2.5, -1, 1.5])"
   ]
  },
  {
   "cell_type": "code",
   "execution_count": 75,
   "id": "97bc1873-11a5-4671-a803-7ef7b3775060",
   "metadata": {},
   "outputs": [],
   "source": [
    "# Similarity Featrues - add features computed using a similarity function, which measure how much each instance resemble a particular landmark\n",
    "# - may be computationally expensive to compute all the additional features if large training set\n"
   ]
  },
  {
   "cell_type": "code",
   "execution_count": 76,
   "id": "85b5b7fa-110b-41b2-bbed-cc0f43ba9e09",
   "metadata": {},
   "outputs": [],
   "source": [
    "# Gaussian RBF Kernel - kernel trick makes it possible to obtain a similar result as if you had added many similarity features\n",
    "rbf_kernel_svm_clf = Pipeline([\n",
    "    (\"scaler\", StandardScaler()),\n",
    "    (\"svm_clf\", SVC(kernel = \"rbf\", gamma = 5, C = 0.001))\n",
    "])\n",
    "rbf_kernel_svm_clf.fit(X, y)\n",
    "# gamma - if model is overfitting, you should reduce it; if model is underfitting, you should increase it (similar to C hyperparameter)\n",
    "# kernel - a feature transformation in an (infinite) feature space, similar to polynomial feature transofmration"
   ]
  },
  {
   "cell_type": "code",
   "execution_count": 77,
   "id": "13a32d31-4516-428f-a049-51fe9c1eb770",
   "metadata": {},
   "outputs": [],
   "source": [
    "# LinearSVC, which doesnt support the kernel trick, has a training time complexity of O(m x n) m - instances, n - features\n",
    "\n",
    "# SVC training time complexity is between O(m**2 x n) and O(m**3 x n).\n",
    "# It means that is slow for big number of training instances, so its perfect for complex small or medium sized training sets\n",
    "\n",
    "# SVM Regression - supports linear/nonlinear classification, but also linear/nonlinear regression.\n",
    "# the trick is to reverse the objective: instead of trying to fit the largest possbile street between two classes\n",
    "# while limiting margin violations, SVM regression tries to fit as many instances as possible ON the street while limiting violations(instances off the street)\n",
    "# the width of street is controlleed by a hyperparameter ε (called tol in Scitkit-Learn)\n",
    "# adding more training instances within the margin does not affect the model's prediction\n",
    "from sklearn.svm import LinearSVR\n",
    "\n",
    "svm_reg = LinearSVR(epsilon = 1.5)\n",
    "svm_reg.fit(X, y)\n",
    "\n",
    "# to tackle nonlinear regression tasks, you can use kernalized SVM model\n",
    "from sklearn.svm import SVR\n",
    "\n",
    "svm_poly_reg = SVR(kernel = \"poly\", degree = 2, C = 100, epsilon = 0.1)\n",
    "svm_poly_reg.fit(X, y)"
   ]
  },
  {
   "cell_type": "code",
   "execution_count": 78,
   "id": "11f53bda-62bf-4cc0-8013-f42cfc76f364",
   "metadata": {},
   "outputs": [],
   "source": [
    "# Exercise 8\n",
    "lin_svc = Pipeline([\n",
    "    (\"scaler\", StandardScaler()),\n",
    "    (\"linear_svc\", LinearSVC(C = 1, loss = \"hinge\"))\n",
    "])\n",
    "\n",
    "lin_svc.fit(X, y)\n",
    "plot_predictions(lin_svc, [-1.5, 2.5, -1, 1.5])\n",
    "plot_dataset(X, y, [-1.5, 2.5, -1, 1.5])"
   ]
  },
  {
   "cell_type": "code",
   "execution_count": 79,
   "id": "93194bd5-bf67-4772-a192-fb8bde5cc0c7",
   "metadata": {},
   "outputs": [],
   "source": [
    "from sklearn.linear_model import SGDClassifier\n",
    "\n",
    "sgd_clf = Pipeline([\n",
    "    (\"scaler\", StandardScaler()),\n",
    "    (\"sgd_clf\", SGDClassifier(tol=1e-4))\n",
    "])\n",
    "\n",
    "sgd_clf.fit(X, y)\n",
    "plot_predictions(sgd_clf, [-1.5, 2.5, -1, 1.5])\n",
    "plot_dataset(X, y, [-1.5, 2.5, -1, 1.5])"
   ]
  },
  {
   "cell_type": "code",
   "execution_count": 80,
   "id": "76554494-910e-430d-9c21-8bedb6a7332f",
   "metadata": {},
   "outputs": [],
   "source": [
    "# Exercise 9\n",
    "MNIST_PATH = os.path.join(\"datasets\", \"mnist\")\n",
    "csv_path = os.path.join(MNIST_PATH, \"train.csv\")\n",
    "mnist_train = pd.read_csv(csv_path)\n",
    "\n"
   ]
  },
  {
   "cell_type": "code",
   "execution_count": 81,
   "id": "8245c897-4390-4731-b105-dafa56b89eb3",
   "metadata": {
    "tags": []
   },
   "outputs": [],
   "source": [
    "from sklearn.metrics import accuracy_score\n"
   ]
  },
  {
   "cell_type": "code",
   "execution_count": 82,
   "id": "de099153-5dac-4a3b-a85a-1ef28c6cb727",
   "metadata": {},
   "outputs": [],
   "source": [
    "scaler = StandardScaler()\n",
    "X_train_scaled = scaler.fit_transform(mnist_train.astype(np.float32))"
   ]
  },
  {
   "cell_type": "code",
   "execution_count": null,
   "id": "b44d51f4-8173-45c6-9700-14ffe8d8ddc6",
   "metadata": {},
   "outputs": [],
   "source": [
    "svm_clf = SVC(gamma=\"scale\", C = 8.5)\n",
    "svm_clf.fit(X_train_scaled[:10000], y_train[:10000])\n",
    "\n",
    "y_pred = svm_clf.predict(X_train_scaled)\n",
    "accuracy_score(y_train, y_pred)"
   ]
  },
  {
   "cell_type": "code",
   "execution_count": null,
   "id": "9c40d7c7-5235-44d2-973a-c52b16e286ed",
   "metadata": {},
   "outputs": [],
   "source": [
    "# from sklearn.model_selection import RandomizedSearchCV\n",
    "# from scipy.stats import reciprocal, uniform\n",
    "\n",
    "# param_distributions = {\"gamma\": reciprocal(0.001, 0.1), \"C\": uniform(1, 10)}\n",
    "# rnd_search_cv = RandomizedSearchCV(svm_clf, param_distributions, n_iter=10, verbose=2, cv=3)\n",
    "# rnd_search_cv.fit(X_train_scaled[:1000], y_train[:1000])"
   ]
  },
  {
   "cell_type": "code",
   "execution_count": null,
   "id": "a16d2109-08fc-4bfa-a0d8-63af873e418f",
   "metadata": {},
   "outputs": [],
   "source": [
    "# rnd_search_cv.best_estimator_.fit(X_train_scaled, y_train)"
   ]
  },
  {
   "cell_type": "code",
   "execution_count": null,
   "id": "5c0c4e4f-46de-44f0-b9e8-afb986c8860e",
   "metadata": {},
   "outputs": [],
   "source": [
    "import os\n",
    "import pandas as pd\n",
    "\n",
    "MNIST_PATH = os.path.join(\"datasets\", \"mnist\")\n",
    "csv_path = os.path.join(MNIST_PATH, \"test.csv\")\n",
    "mnist_test = pd.read_csv(csv_path)\n",
    "\n",
    "y_pred = svm_clf.predict(X_test)"
   ]
  },
  {
   "cell_type": "code",
   "execution_count": null,
   "id": "fe41d02b-1a2f-4ea9-ab5a-4845d45c9005",
   "metadata": {},
   "outputs": [],
   "source": [
    "image_id = [i for i in range(1, 28001)]"
   ]
  },
  {
   "cell_type": "code",
   "execution_count": null,
   "id": "cb1dab3c-f295-4ffb-ba25-741b9558d214",
   "metadata": {},
   "outputs": [],
   "source": [
    "submission = pd.DataFrame({\n",
    "        \"ImageId\": image_id,\n",
    "        \"Label\": y_pred\n",
    "    })\n",
    "submission.to_csv('./submission_mnist.csv', index=False)"
   ]
  },
  {
   "cell_type": "code",
   "execution_count": null,
   "id": "252da624-5ac4-4fdf-9745-46a260d84337",
   "metadata": {},
   "outputs": [],
   "source": [
    "mnist_test.shape, X_train.shape, X.shape"
   ]
  },
  {
   "cell_type": "code",
   "execution_count": null,
   "id": "8f8185d5-882a-49fc-a65e-520c1eb07454",
   "metadata": {},
   "outputs": [],
   "source": [
    "df_describe = pd.DataFrame(y_pred)\n",
    "df_describe.describe()"
   ]
  },
  {
   "cell_type": "code",
   "execution_count": null,
   "id": "4774f270-93b1-48f8-9122-0cdcc1d4cf70",
   "metadata": {},
   "outputs": [],
   "source": [
    "_, axes = plt.subplots(nrows=1, ncols=4, figsize=(10, 3))\n",
    "for ax, image, prediction in zip(axes, X_test, y_pred):\n",
    "    ax.set_axis_off()\n",
    "    image = image.reshape(28, 28)\n",
    "    ax.imshow(image, cmap=plt.cm.gray_r, interpolation=\"nearest\")\n",
    "    ax.set_title(f\"Prediction: {prediction}\")"
   ]
  }
 ],
 "metadata": {
  "kernelspec": {
   "display_name": "Python 3 (ipykernel)",
   "language": "python",
   "name": "python3"
  },
  "language_info": {
   "codemirror_mode": {
    "name": "ipython",
    "version": 3
   },
   "file_extension": ".py",
   "mimetype": "text/x-python",
   "name": "python",
   "nbconvert_exporter": "python",
   "pygments_lexer": "ipython3",
   "version": "3.9.7"
  }
 },
 "nbformat": 4,
 "nbformat_minor": 5
}
