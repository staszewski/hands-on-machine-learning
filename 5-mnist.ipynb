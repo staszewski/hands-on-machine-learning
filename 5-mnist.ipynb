{
 "cells": [
  {
   "cell_type": "code",
   "execution_count": 1,
   "id": "67c21cac-a33a-431d-9950-b5aaaeeec278",
   "metadata": {},
   "outputs": [],
   "source": [
    "import os\n",
    "import pandas as pd\n",
    "import numpy as np\n",
    "\n",
    "MNIST_PATH = os.path.join(\"datasets\", \"mnist\")\n",
    "\n",
    "train_path = os.path.join(MNIST_PATH, \"train.csv\")\n",
    "train_data = pd.read_csv(train_path)\n",
    "\n",
    "test_path = os.path.join(MNIST_PATH, \"test.csv\")\n",
    "test_data = pd.read_csv(test_path)\n",
    "\n",
    "\n",
    "X = train_data.drop(['label'], axis=1)\n",
    "y = train_data['label']"
   ]
  },
  {
   "cell_type": "code",
   "execution_count": 2,
   "id": "6b22922e-4a6b-462f-9514-85c37f86b3c9",
   "metadata": {},
   "outputs": [
    {
     "data": {
      "text/plain": [
       "SVC()"
      ]
     },
     "execution_count": 2,
     "metadata": {},
     "output_type": "execute_result"
    }
   ],
   "source": [
    "from sklearn.svm import SVC\n",
    "from sklearn.preprocessing import StandardScaler\n",
    "\n",
    "scaler = StandardScaler()\n",
    "X_train_scaled = scaler.fit_transform(X.astype(np.float32))\n",
    "svm_clf = SVC(gamma = \"scale\")\n",
    "svm_clf.fit(X_train_scaled[:10000], y[:10000])"
   ]
  },
  {
   "cell_type": "code",
   "execution_count": 3,
   "id": "d1783b60-f35e-4eac-bd73-89fba8df78e9",
   "metadata": {},
   "outputs": [
    {
     "name": "stdout",
     "output_type": "stream",
     "text": [
      "Fitting 3 folds for each of 10 candidates, totalling 30 fits\n",
      "[CV] END .....C=1.68203123030387, gamma=0.013568214437149957; total time=  47.9s\n",
      "[CV] END .....C=1.68203123030387, gamma=0.013568214437149957; total time=  47.3s\n",
      "[CV] END .....C=1.68203123030387, gamma=0.013568214437149957; total time=  50.4s\n",
      "[CV] END ....C=6.555799114487906, gamma=0.007239315363964686; total time=  49.9s\n",
      "[CV] END ....C=6.555799114487906, gamma=0.007239315363964686; total time=  47.0s\n",
      "[CV] END ....C=6.555799114487906, gamma=0.007239315363964686; total time=  48.9s\n",
      "[CV] END ......C=8.21987219712199, gamma=0.09438683702036246; total time=  53.1s\n",
      "[CV] END ......C=8.21987219712199, gamma=0.09438683702036246; total time=  55.2s\n",
      "[CV] END ......C=8.21987219712199, gamma=0.09438683702036246; total time=  57.5s\n",
      "[CV] END ....C=10.842986702528993, gamma=0.03173156767092053; total time=  53.7s\n",
      "[CV] END ....C=10.842986702528993, gamma=0.03173156767092053; total time=  56.9s\n",
      "[CV] END ....C=10.842986702528993, gamma=0.03173156767092053; total time=  58.1s\n",
      "[CV] END ....C=7.280943309341386, gamma=0.005165151483807706; total time=  42.1s\n",
      "[CV] END ....C=7.280943309341386, gamma=0.005165151483807706; total time=  38.1s\n",
      "[CV] END ....C=7.280943309341386, gamma=0.005165151483807706; total time=  38.0s\n",
      "[CV] END ....C=6.749063581769444, gamma=0.019364742084849475; total time= 1.1min\n",
      "[CV] END ....C=6.749063581769444, gamma=0.019364742084849475; total time=  57.7s\n",
      "[CV] END ....C=6.749063581769444, gamma=0.019364742084849475; total time=  51.0s\n",
      "[CV] END ....C=10.40306225322435, gamma=0.020494063095372363; total time=  48.9s\n",
      "[CV] END ....C=10.40306225322435, gamma=0.020494063095372363; total time=  46.8s\n",
      "[CV] END ....C=10.40306225322435, gamma=0.020494063095372363; total time=  44.4s\n",
      "[CV] END ....C=7.517612248673633, gamma=0.004062394967384002; total time=  26.0s\n",
      "[CV] END ....C=7.517612248673633, gamma=0.004062394967384002; total time=  25.9s\n",
      "[CV] END ....C=7.517612248673633, gamma=0.004062394967384002; total time=  30.4s\n",
      "[CV] END .....C=9.813425076711747, gamma=0.02583314451698111; total time= 1.1min\n",
      "[CV] END .....C=9.813425076711747, gamma=0.02583314451698111; total time= 1.0min\n",
      "[CV] END .....C=9.813425076711747, gamma=0.02583314451698111; total time= 1.1min\n",
      "[CV] END ...C=10.04890139818934, gamma=0.0059861361014470395; total time=  44.2s\n",
      "[CV] END ...C=10.04890139818934, gamma=0.0059861361014470395; total time=  44.0s\n",
      "[CV] END ...C=10.04890139818934, gamma=0.0059861361014470395; total time=  44.7s\n"
     ]
    },
    {
     "data": {
      "text/plain": [
       "RandomizedSearchCV(cv=3, estimator=SVC(),\n",
       "                   param_distributions={'C': <scipy.stats._distn_infrastructure.rv_frozen object at 0x7fda27c42280>,\n",
       "                                        'gamma': <scipy.stats._distn_infrastructure.rv_frozen object at 0x7fd9b7ca3640>},\n",
       "                   verbose=2)"
      ]
     },
     "execution_count": 3,
     "metadata": {},
     "output_type": "execute_result"
    }
   ],
   "source": [
    "from sklearn.model_selection import RandomizedSearchCV\n",
    "from scipy.stats import reciprocal, uniform\n",
    "\n",
    "param_distributions = {\"gamma\": reciprocal(0.001, 0.1), \"C\": uniform(1, 10)}\n",
    "rnd_search_cv = RandomizedSearchCV(svm_clf, param_distributions, n_iter=10, verbose=2, cv=3)\n",
    "rnd_search_cv.fit(X_train_scaled[:10000], y[:10000])"
   ]
  },
  {
   "cell_type": "code",
   "execution_count": 4,
   "id": "ab264732-4160-491f-aa0c-5e41a6d1fd84",
   "metadata": {},
   "outputs": [
    {
     "data": {
      "text/plain": [
       "SVC(C=7.517612248673633, gamma=0.004062394967384002)"
      ]
     },
     "execution_count": 4,
     "metadata": {},
     "output_type": "execute_result"
    }
   ],
   "source": [
    "rnd_search_cv.best_estimator_"
   ]
  },
  {
   "cell_type": "code",
   "execution_count": null,
   "id": "31171411-0c58-475e-b7a1-8baa39a94a97",
   "metadata": {},
   "outputs": [],
   "source": []
  },
  {
   "cell_type": "code",
   "execution_count": 7,
   "id": "53658b96-35f9-4a84-96d6-494a200bb498",
   "metadata": {},
   "outputs": [
    {
     "data": {
      "text/plain": [
       "1.0"
      ]
     },
     "execution_count": 7,
     "metadata": {},
     "output_type": "execute_result"
    }
   ],
   "source": [
    "from sklearn.metrics import accuracy_score\n",
    "\n",
    "y_pred = rnd_search_cv.best_estimator_.predict(X_train_scaled[:10000])\n",
    "accuracy_score(y[:10000], y_pred)\n",
    "# image_id = [i for i in range(1, 28001)]\n",
    "# submission = pd.DataFrame({\n",
    "#         \"ImageId\": image_id,\n",
    "#         \"Label\": y_pred\n",
    "#     })\n",
    "# submission.to_csv('./submission_mnist.csv', index=False)"
   ]
  }
 ],
 "metadata": {
  "kernelspec": {
   "display_name": "Python 3 (ipykernel)",
   "language": "python",
   "name": "python3"
  },
  "language_info": {
   "codemirror_mode": {
    "name": "ipython",
    "version": 3
   },
   "file_extension": ".py",
   "mimetype": "text/x-python",
   "name": "python",
   "nbconvert_exporter": "python",
   "pygments_lexer": "ipython3",
   "version": "3.9.7"
  }
 },
 "nbformat": 4,
 "nbformat_minor": 5
}
