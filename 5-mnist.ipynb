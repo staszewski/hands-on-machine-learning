{
 "cells": [
  {
   "cell_type": "code",
   "execution_count": 9,
   "id": "67c21cac-a33a-431d-9950-b5aaaeeec278",
   "metadata": {},
   "outputs": [],
   "source": [
    "import os\n",
    "import pandas as pd\n",
    "import numpy as np\n",
    "\n",
    "MNIST_PATH = os.path.join(\"datasets\", \"mnist\")\n",
    "\n",
    "train_path = os.path.join(MNIST_PATH, \"train.csv\")\n",
    "train_data = pd.read_csv(train_path)\n",
    "\n",
    "test_path = os.path.join(MNIST_PATH, \"test.csv\")\n",
    "test_data = pd.read_csv(test_path)\n",
    "\n",
    "\n",
    "X = train_data.drop(['label'], axis=1)\n",
    "y = train_data['label']"
   ]
  },
  {
   "cell_type": "code",
   "execution_count": 10,
   "id": "6b22922e-4a6b-462f-9514-85c37f86b3c9",
   "metadata": {},
   "outputs": [],
   "source": [
    "from sklearn.preprocessing import StandardScaler\n",
    "\n",
    "scaler = StandardScaler()\n",
    "X_train_scaled = scaler.fit_transform(X.astype(np.float32))\n",
    "X_train_scaled = X_train_scaled.reshape(-1, 28 * 28)\n"
   ]
  },
  {
   "cell_type": "code",
   "execution_count": 11,
   "id": "576f9ccc-e78e-4039-b568-b417a69ac7c8",
   "metadata": {},
   "outputs": [
    {
     "data": {
      "text/plain": [
       "BaggingClassifier(base_estimator=RandomForestClassifier(), max_samples=100,\n",
       "                  n_estimators=500, n_jobs=-1)"
      ]
     },
     "execution_count": 11,
     "metadata": {},
     "output_type": "execute_result"
    }
   ],
   "source": [
    "\n",
    "from sklearn.ensemble import BaggingClassifier, RandomForestClassifier\n",
    "\n",
    "bag_clf = BaggingClassifier(RandomForestClassifier(), n_estimators = 500, max_samples = 100, bootstrap = True, n_jobs = -1)\n",
    "bag_clf.fit(X_train_scaled, y)"
   ]
  },
  {
   "cell_type": "code",
   "execution_count": 12,
   "id": "6fc47ead-83ce-4b8a-bf7d-809fd82efee0",
   "metadata": {},
   "outputs": [],
   "source": [
    "y_pred = bag_clf.predict(test_data)\n",
    "\n",
    "image_id = [i for i in range(1, 28001)]\n",
    "submission = pd.DataFrame({\n",
    "        \"ImageId\": image_id,\n",
    "        \"Label\": y_pred\n",
    "    })\n",
    "submission.to_csv('./submission_mnist.csv', index=False)"
   ]
  }
 ],
 "metadata": {
  "kernelspec": {
   "display_name": "Python 3 (ipykernel)",
   "language": "python",
   "name": "python3"
  },
  "language_info": {
   "codemirror_mode": {
    "name": "ipython",
    "version": 3
   },
   "file_extension": ".py",
   "mimetype": "text/x-python",
   "name": "python",
   "nbconvert_exporter": "python",
   "pygments_lexer": "ipython3",
   "version": "3.9.7"
  }
 },
 "nbformat": 4,
 "nbformat_minor": 5
}
